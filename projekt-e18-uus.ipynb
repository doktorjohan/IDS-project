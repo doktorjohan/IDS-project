{
 "cells": [
  {
   "cell_type": "markdown",
   "metadata": {},
   "source": [
    "# IDS 2022 Project 18 electricity\n",
    "\n",
    "Anette Taivere, Johan Hollak, Meeri-Ly Muru"
   ]
  },
  {
   "cell_type": "code",
   "execution_count": 1,
   "metadata": {},
   "outputs": [],
   "source": [
    "#Download keras, tensorflow with "
   ]
  },
  {
   "cell_type": "code",
   "execution_count": 2,
   "metadata": {},
   "outputs": [
    {
     "name": "stderr",
     "output_type": "stream",
     "text": [
      "2022-12-12 11:44:22.184642: I tensorflow/core/platform/cpu_feature_guard.cc:193] This TensorFlow binary is optimized with oneAPI Deep Neural Network Library (oneDNN) to use the following CPU instructions in performance-critical operations:  AVX2 AVX512F AVX512_VNNI FMA\n",
      "To enable them in other operations, rebuild TensorFlow with the appropriate compiler flags.\n",
      "2022-12-12 11:44:22.443756: I tensorflow/core/util/util.cc:169] oneDNN custom operations are on. You may see slightly different numerical results due to floating-point round-off errors from different computation orders. To turn them off, set the environment variable `TF_ENABLE_ONEDNN_OPTS=0`.\n",
      "2022-12-12 11:44:22.454874: W tensorflow/stream_executor/platform/default/dso_loader.cc:64] Could not load dynamic library 'libcudart.so.11.0'; dlerror: libcudart.so.11.0: cannot open shared object file: No such file or directory\n",
      "2022-12-12 11:44:22.454904: I tensorflow/stream_executor/cuda/cudart_stub.cc:29] Ignore above cudart dlerror if you do not have a GPU set up on your machine.\n",
      "2022-12-12 11:44:22.509166: E tensorflow/stream_executor/cuda/cuda_blas.cc:2981] Unable to register cuBLAS factory: Attempting to register factory for plugin cuBLAS when one has already been registered\n",
      "2022-12-12 11:44:23.674094: W tensorflow/stream_executor/platform/default/dso_loader.cc:64] Could not load dynamic library 'libnvinfer.so.7'; dlerror: libnvinfer.so.7: cannot open shared object file: No such file or directory\n",
      "2022-12-12 11:44:23.674220: W tensorflow/stream_executor/platform/default/dso_loader.cc:64] Could not load dynamic library 'libnvinfer_plugin.so.7'; dlerror: libnvinfer_plugin.so.7: cannot open shared object file: No such file or directory\n",
      "2022-12-12 11:44:23.674232: W tensorflow/compiler/tf2tensorrt/utils/py_utils.cc:38] TF-TRT Warning: Cannot dlopen some TensorRT libraries. If you would like to use Nvidia GPU with TensorRT, please make sure the missing libraries mentioned above are installed properly.\n"
     ]
    }
   ],
   "source": [
    "import sklearn\n",
    "import sklearn.preprocessing\n",
    "import sklearn.utils\n",
    "from sklearn.model_selection import train_test_split\n",
    "from sklearn.metrics import max_error, mean_squared_error, mean_absolute_error, explained_variance_score\n",
    "from sklearn.naive_bayes import GaussianNB\n",
    "from sklearn import preprocessing\n",
    "\n",
    "from keras.layers import Dense, Input, BatchNormalization\n",
    "from keras.models import Sequential\n",
    "from tensorflow.keras.optimizers import SGD\n",
    "from keras.models import load_model\n",
    "\n",
    "import pandas as pd\n",
    "import numpy as np\n",
    "\n",
    "import matplotlib.pyplot as plt\n",
    "%matplotlib inline"
   ]
  },
  {
   "cell_type": "code",
   "execution_count": 3,
   "metadata": {},
   "outputs": [],
   "source": [
    "# Read in the data\n",
    "failinimi = 'train.csv'\n",
    "train = pd.read_csv(failinimi, sep=',', header = 0)\n",
    "test = pd.read_csv('test.csv', sep=',', header = 0)\n",
    "ennustatav = \"consumption\""
   ]
  },
  {
   "cell_type": "code",
   "execution_count": 4,
   "metadata": {},
   "outputs": [],
   "source": [
    "# Replace NaN values\n",
    "train=train.fillna(0) \n",
    "\n",
    "train[['date','timeIn24']] = train.time.str.split(expand=True)\n",
    "train['timeIn24']=train.timeIn24.str.split('+' , expand=True)[0]\n",
    "train['timeIn24']=train.timeIn24.str.split(':' , expand=True)[0]\n",
    "train['timeIn24']=train['timeIn24'].astype(float)\n",
    "\n",
    "test=test.fillna(0)\n",
    "\n",
    "test[['date','timeIn24']] = test.time.str.split(expand=True)\n",
    "test['timeIn24']=test.timeIn24.str.split('+' , expand=True)[0]\n",
    "test['timeIn24']=test.timeIn24.str.split(':' , expand=True)[0]\n",
    "test['timeIn24']=test['timeIn24'].astype(float)"
   ]
  },
  {
   "cell_type": "markdown",
   "metadata": {},
   "source": [
    "\n"
   ]
  },
  {
   "cell_type": "code",
   "execution_count": 5,
   "metadata": {},
   "outputs": [],
   "source": [
    "# Normalize values\n",
    "scaler_train = sklearn.preprocessing.MinMaxScaler()\n",
    "train[[ 'temp', 'dwpt', 'rhum', 'prcp', 'snow', 'wdir', 'wspd', 'wpgt', 'pres', 'coco', 'el_price','timeIn24']] = scaler_train.fit_transform(train[[ 'temp', 'dwpt', 'rhum', 'prcp', 'snow', 'wdir', 'wspd', 'wpgt', 'pres', 'coco', 'el_price','timeIn24']])\n",
    "\n",
    "scaler_y_train = sklearn.preprocessing.MinMaxScaler()\n",
    "train[[\"consumption\"]] = scaler_y_train.fit_transform(train[[\"consumption\"]])\n",
    "\n",
    "scaler_test = sklearn.preprocessing.MinMaxScaler()\n",
    "test[[ 'temp', 'dwpt', 'rhum', 'prcp', 'snow', 'wdir', 'wspd', 'wpgt', 'pres', 'coco', 'el_price','timeIn24']] = scaler_test.fit_transform(test[[ 'temp', 'dwpt', 'rhum', 'prcp', 'snow', 'wdir', 'wspd', 'wpgt', 'pres', 'coco', 'el_price','timeIn24']])\n"
   ]
  },
  {
   "cell_type": "code",
   "execution_count": 6,
   "metadata": {},
   "outputs": [],
   "source": [
    "# Function for creating (compiling) the model\n",
    "\n",
    "def model(inputshape, loss, opt):\n",
    "    mdl = Sequential()\n",
    "\n",
    "    mdl.add(Dense(64, activation=\"tanh\", input_shape=(inputshape,)))\n",
    "    mdl.add(BatchNormalization())\n",
    "    mdl.add(Dense(32, activation=\"tanh\"))\n",
    "    mdl.add(BatchNormalization())\n",
    "    mdl.add(Dense(16, activation=\"selu\"))\n",
    "    mdl.add(BatchNormalization())\n",
    "    mdl.add(Dense(8, activation=\"linear\"))\n",
    "    mdl.add(Dense(1, activation=\"linear\"))\n",
    "    \n",
    "    mdl.compile(loss=loss, optimizer=opt)\n",
    "    return mdl"
   ]
  },
  {
   "cell_type": "code",
   "execution_count": 7,
   "metadata": {
    "scrolled": false
   },
   "outputs": [
    {
     "name": "stderr",
     "output_type": "stream",
     "text": [
      "/tmp/ipykernel_99362/1751926954.py:13: SettingWithCopyWarning: \n",
      "A value is trying to be set on a copy of a slice from a DataFrame\n",
      "\n",
      "See the caveats in the documentation: https://pandas.pydata.org/pandas-docs/stable/user_guide/indexing.html#returning-a-view-versus-a-copy\n",
      "  y_train.drop(index=y_train.index[:150],inplace=True)\n"
     ]
    }
   ],
   "source": [
    "# Shuffle the training data and drop unneccesary columns, split the data into test and training data\n",
    "\n",
    "train = sklearn.utils.shuffle(train)\n",
    "\n",
    "X_train = train.drop(columns = ['time','consumption', 'date'])\n",
    "X_train = X_train[[\"temp\",\"wspd\" ,\"dwpt\", \"rhum\", \"el_price\", \"timeIn24\"]]\n",
    "y_train = train[['consumption']]\n",
    "\n",
    "X_test = X_train[:150]\n",
    "y_test = y_train[:150]\n",
    "\n",
    "X_train.drop(index=X_train.index[:150],inplace=True)\n",
    "y_train.drop(index=y_train.index[:150],inplace=True)\n",
    "\n",
    "y_real = train[['consumption']]\n",
    "\n",
    "test = test[[\"temp\",\"wspd\" ,\"dwpt\", \"rhum\", \"el_price\", \"timeIn24\"]]"
   ]
  },
  {
   "cell_type": "code",
   "execution_count": 8,
   "metadata": {},
   "outputs": [],
   "source": [
    "def plot_loss(history):\n",
    "  plt.plot(history.history['loss'], label='loss')\n",
    "  plt.plot(history.history['val_loss'], label='val_loss')\n",
    "  plt.xlabel('Epoch')\n",
    "  plt.ylabel('Error')\n",
    "  plt.legend()\n",
    "  plt.grid(True)\n"
   ]
  },
  {
   "cell_type": "code",
   "execution_count": 9,
   "metadata": {},
   "outputs": [
    {
     "name": "stderr",
     "output_type": "stream",
     "text": [
      "2022-12-12 11:44:26.259454: W tensorflow/stream_executor/platform/default/dso_loader.cc:64] Could not load dynamic library 'libcuda.so.1'; dlerror: libcuda.so.1: cannot open shared object file: No such file or directory\n",
      "2022-12-12 11:44:26.259500: W tensorflow/stream_executor/cuda/cuda_driver.cc:263] failed call to cuInit: UNKNOWN ERROR (303)\n",
      "2022-12-12 11:44:26.259535: I tensorflow/stream_executor/cuda/cuda_diagnostics.cc:156] kernel driver does not appear to be running on this host (swamp-monitor): /proc/driver/nvidia/version does not exist\n",
      "2022-12-12 11:44:26.259963: I tensorflow/core/platform/cpu_feature_guard.cc:193] This TensorFlow binary is optimized with oneAPI Deep Neural Network Library (oneDNN) to use the following CPU instructions in performance-critical operations:  AVX2 AVX512F AVX512_VNNI FMA\n",
      "To enable them in other operations, rebuild TensorFlow with the appropriate compiler flags.\n"
     ]
    },
    {
     "data": {
      "image/png": "[encoded data removed]",
      "text/plain": [
       "<Figure size 640x480 with 1 Axes>"
      ]
     },
     "metadata": {},
     "output_type": "display_data"
    }
   ],
   "source": [
    "# Train the model\n",
    "input_shape = X_train.shape[1]\n",
    "mdl = model(input_shape, \"mean_squared_error\", \"adam\")\n",
    "hist = mdl.fit(X_train, y_train, epochs=150, batch_size=32, verbose=False, validation_split=0.2)\n",
    "plot_loss(hist)"
   ]
  },
  {
   "cell_type": "code",
   "execution_count": 10,
   "metadata": {},
   "outputs": [
    {
     "name": "stdout",
     "output_type": "stream",
     "text": [
      "5/5 [==============================] - 0s 3ms/step\n"
     ]
    },
    {
     "data": {
      "text/plain": [
       "0.14648721917269691"
      ]
     },
     "execution_count": 10,
     "metadata": {},
     "output_type": "execute_result"
    }
   ],
   "source": [
    "# Calcultate the R-squared score\n",
    "\n",
    "y_predicted = mdl.predict(X_test)\n",
    "explained_variance_score(y_test, y_predicted)"
   ]
  },
  {
   "cell_type": "code",
   "execution_count": 11,
   "metadata": {
    "scrolled": true
   },
   "outputs": [
    {
     "name": "stdout",
     "output_type": "stream",
     "text": [
      "5/5 [==============================] - 0s 3ms/step\n",
      "Predicted price (normalized) - Predicted price (absolute) - Actual price\n",
      "0.11137581 - 1.1561922702789307 - 0.265196031210866\n",
      "0.031651616 - 0.32857542669773104 - 0.03660533667276755\n",
      "0.15412274 - 1.599948164254427 - 0.04305943550717657\n",
      "0.117232606 - 1.2169916809648276 - 0.17329737019554955\n",
      "0.14746428 - 1.5308266425132753 - 0.894326172815721\n",
      "0.073895514 - 0.7671093309521676 - 0.042192467007032074\n",
      "0.082087845 - 0.852153914898634 - 0.08062807051343801\n",
      "0.11401945 - 1.1836359470486641 - 0.37115884789519316\n",
      "0.10703786 - 1.1111599953323603 - 0.13611405452268566\n",
      "0.032432247 - 0.33667915562167766 - 0.022252191503708697\n",
      "0.06859125 - 0.7120457866936922 - 0.024756767170792792\n",
      "0.07044226 - 0.7312610939145089 - 0.06579327617763221\n",
      "0.12005739 - 1.2463157566636802 - 0.14391677102398612\n",
      "0.10029525 - 1.0411650224104525 - 0.14998555052499757\n",
      "0.04652478 - 0.4829737591780722 - 0.02331181967055197\n",
      "0.08762798 - 0.9096660306155682 - 0.046912628841152104\n",
      "0.07225647 - 0.75009439676255 - 0.041229168673538194\n",
      "0.044952158 - 0.4666483510024846 - 0.059820826509970136\n",
      "0.06560792 - 0.6810758205205203 - 0.09931605818321933\n",
      "0.0649542 - 0.6742895387485623 - 0.029187939504864653\n"
     ]
    }
   ],
   "source": [
    "# Predict price of energy consumption on 20 first rows of train data\n",
    "\n",
    "y_pred = mdl.predict(X_test)\n",
    "\n",
    "print(\"Predicted price (normalized) - Predicted price (absolute) - Actual price\")\n",
    "for i in range(20):\n",
    "    print(y_pred[i][0], '-', (scaler_y_train.inverse_transform([y_pred[i]])[0][0]), '-', y_test.iloc[i][0])"
   ]
  },
  {
   "cell_type": "code",
   "execution_count": 12,
   "metadata": {},
   "outputs": [],
   "source": [
    "# Save model to disk and delete it from memory\n",
    "mdl.save('mudel.h5')  \n",
    "#del mdl\n",
    "\n",
    "# Load model from disk with new presentable name\n",
    "mdlFromDisk = load_model('mudel.h5')"
   ]
  },
  {
   "cell_type": "code",
   "execution_count": 13,
   "metadata": {},
   "outputs": [
    {
     "name": "stdout",
     "output_type": "stream",
     "text": [
      "6/6 [==============================] - 0s 2ms/step\n",
      "Predicted price (normalized) - Predicted price (absolute)\n",
      "0.10552949 - 1.0955016059279443\n",
      "0.09094569 - 0.944107216924429\n",
      "0.08811699 - 0.9147424580305815\n",
      "0.12548332 - 1.3026423362344504\n",
      "0.12050636 - 1.2509765348583461\n",
      "0.120284244 - 1.2486707413047553\n",
      "0.124149546 - 1.2887964373081924\n",
      "0.13315357 - 1.3822672379761936\n",
      "0.13013984 - 1.3509817063361407\n",
      "0.13298085 - 1.380474238306284\n",
      "0.15137078 - 1.5713800534754991\n",
      "0.14213397 - 1.4754927019625903\n",
      "0.14161389 - 1.4700937480777503\n",
      "0.13863386 - 1.4391581228524448\n",
      "0.1537104 - 1.5956676115095616\n",
      "0.15927528 - 1.6534366655796768\n",
      "0.16043015 - 1.6654253689199687\n",
      "0.13811961 - 1.433819652348757\n",
      "0.15847488 - 1.6451277030855418\n",
      "0.17262465 - 1.7920164669156076\n"
     ]
    }
   ],
   "source": [
    "# Predict price of energy consumption on the test data\n",
    "\n",
    "y_pred = mdlFromDisk.predict(test)\n",
    "\n",
    "print(\"Predicted price (normalized) - Predicted price (absolute)\")\n",
    "for i in range(20):\n",
    "    print(y_pred[i][0], '-', (scaler_y_train.inverse_transform([y_pred[i]])[0][0]))"
   ]
  }
 ],
 "metadata": {
  "kernelspec": {
   "display_name": "Python 3 (ipykernel)",
   "language": "python",
   "name": "python3"
  },
  "language_info": {
   "codemirror_mode": {
    "name": "ipython",
    "version": 3
   },
   "file_extension": ".py",
   "mimetype": "text/x-python",
   "name": "python",
   "nbconvert_exporter": "python",
   "pygments_lexer": "ipython3",
   "version": "3.10.4"
  }
 },
 "nbformat": 4,
 "nbformat_minor": 4
}
