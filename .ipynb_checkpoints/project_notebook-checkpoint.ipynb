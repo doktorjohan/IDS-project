{
 "cells": [
  {
   "cell_type": "markdown",
   "id": "6c7f3d72-6320-4b3a-8ede-d39d699a8422",
   "metadata": {},
   "source": [
    "# KAGGLE-ELECTRICITY-CONSUMPTION\n",
    "## TEAM E-18"
   ]
  },
  {
   "cell_type": "code",
   "execution_count": 1,
   "id": "4e6ad1a2-51aa-4d85-8728-6c0a59f4419c",
   "metadata": {},
   "outputs": [
    {
     "name": "stdout",
     "output_type": "stream",
     "text": [
      "hello world\n"
     ]
    }
   ],
   "source": [
    "print('hello world')"
   ]
  }
 ],
 "metadata": {
  "kernelspec": {
   "display_name": "Python 3 (ipykernel)",
   "language": "python",
   "name": "python3"
  },
  "language_info": {
   "codemirror_mode": {
    "name": "ipython",
    "version": 3
   },
   "file_extension": ".py",
   "mimetype": "text/x-python",
   "name": "python",
   "nbconvert_exporter": "python",
   "pygments_lexer": "ipython3",
   "version": "3.9.12"
  }
 },
 "nbformat": 4,
 "nbformat_minor": 5
}
